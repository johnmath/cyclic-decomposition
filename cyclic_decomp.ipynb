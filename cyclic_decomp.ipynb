{
 "cells": [
  {
   "cell_type": "code",
   "execution_count": 1,
   "metadata": {},
   "outputs": [],
   "source": [
    "from math import gcd"
   ]
  },
  {
   "cell_type": "code",
   "execution_count": 2,
   "metadata": {},
   "outputs": [
    {
     "name": "stdout",
     "output_type": "stream",
     "text": [
      "dict_keys([1, 2, 3, 4, 5, 6, 7, 8, 9, 10])\n",
      "dict_values([3, 4, 6, 8, 10, 7, 9, 2, 1, 5])\n"
     ]
    }
   ],
   "source": [
    "sigma = {1: 3, 2: 4, 3: 6, 4: 8, 5: 10, 6: 7, 7: 9, 8: 2, 9: 1, 10: 5}\n",
    "\n",
    "print(sigma.keys())\n",
    "print(sigma.values())"
   ]
  },
  {
   "cell_type": "code",
   "execution_count": 3,
   "metadata": {},
   "outputs": [],
   "source": [
    "def find_cyles(sigma):\n",
    "    \"\"\"Find cycles of a map using a depth first search\"\"\"\n",
    "    \n",
    "    cycles = []\n",
    "    already_seen = set()\n",
    "    \n",
    "    for element in sigma.keys():\n",
    "        if element not in already_seen:\n",
    "            cycles.append(dfs(sigma, element, set(), []))\n",
    "            already_seen.update(cycles[-1])\n",
    "    \n",
    "    return cycles\n",
    "    \n",
    "def dfs(sigma, element, memo, cycle):\n",
    "    \"\"\"DFS Helper Function\"\"\"\n",
    "    \n",
    "    if element in memo:\n",
    "        return\n",
    "    \n",
    "    memo.add(element)\n",
    "    dfs(sigma, sigma[element], memo, cycle)\n",
    "    return list(memo)"
   ]
  },
  {
   "cell_type": "code",
   "execution_count": 4,
   "metadata": {},
   "outputs": [],
   "source": [
    "def find_order(cycle_list):\n",
    "    \"\"\"Compute LCM of Cycle Lengths\"\"\"\n",
    "    \n",
    "    cycle_lengths = [len(x) for x in cycle_list]\n",
    "    \n",
    "    lcm = cycle_lengths[0]\n",
    "    for length in cycle_lengths[1:]:\n",
    "        lcm = lcm*length//gcd(lcm, length)\n",
    "    \n",
    "    return lcm"
   ]
  },
  {
   "cell_type": "code",
   "execution_count": 5,
   "metadata": {},
   "outputs": [
    {
     "name": "stdout",
     "output_type": "stream",
     "text": [
      "The Cyclic Decomposition of Sigma is (1, 3, 6, 7, 9) (8, 2, 4) (10, 5) \n",
      "\n",
      "Sigma has order 30\n"
     ]
    }
   ],
   "source": [
    "cycles = find_cyles(sigma)\n",
    "\n",
    "cycles_string = ''\n",
    "\n",
    "for cycle in cycles:\n",
    "    cycles_string += str(tuple(cycle)) + ' ' \n",
    "\n",
    "print('The Cyclic Decomposition of Sigma is {}'.format(cycles_string))\n",
    "print('\\nSigma has order {}'.format(find_order(cycles)))"
   ]
  },
  {
   "cell_type": "markdown",
   "metadata": {},
   "source": []
  },
  {
   "cell_type": "code",
   "execution_count": null,
   "metadata": {},
   "outputs": [],
   "source": []
  },
  {
   "cell_type": "code",
   "execution_count": null,
   "metadata": {},
   "outputs": [],
   "source": []
  }
 ],
 "metadata": {
  "kernelspec": {
   "display_name": "Python 3",
   "language": "python",
   "name": "python3"
  },
  "language_info": {
   "codemirror_mode": {
    "name": "ipython",
    "version": 3
   },
   "file_extension": ".py",
   "mimetype": "text/x-python",
   "name": "python",
   "nbconvert_exporter": "python",
   "pygments_lexer": "ipython3",
   "version": "3.7.6"
  }
 },
 "nbformat": 4,
 "nbformat_minor": 4
}
